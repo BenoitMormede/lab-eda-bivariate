{
 "cells": [
  {
   "cell_type": "code",
   "execution_count": null,
   "id": "bfbe5982-53a7-4868-8108-f46391f97636",
   "metadata": {},
   "outputs": [],
   "source": [
    "import pandas as pd\n",
    "import matplotlib.pyplot as plt\n",
    "import seaborn as sns\n",
    "import numpy as np\n",
    "%matplotlib inline"
   ]
  },
  {
   "cell_type": "code",
   "execution_count": null,
   "id": "0dd29b4e-4b25-4db1-a8d8-fa9df9ec2904",
   "metadata": {},
   "outputs": [],
   "source": [
    "# Loading the amazon UK product dataset\n",
    "df = pd.read_csv('/Users/benoi/Documents/IronHack/Week_5/amz_uk_price_prediction_dataset.csv')"
   ]
  },
  {
   "cell_type": "code",
   "execution_count": null,
   "id": "52dfdc33-072b-4106-996a-4456bb7e3946",
   "metadata": {},
   "outputs": [],
   "source": [
    "df.head(10)"
   ]
  },
  {
   "cell_type": "code",
   "execution_count": null,
   "id": "4fb0f1f3-4e6a-4e8e-b99c-30ec7f117b2c",
   "metadata": {},
   "outputs": [],
   "source": [
    "df"
   ]
  },
  {
   "cell_type": "code",
   "execution_count": null,
   "id": "6d0e633f-68a8-4da1-953e-9be60e8fb808",
   "metadata": {},
   "outputs": [],
   "source": [
    "#Part 1: Analyzing Best-Seller Trends Across Product Categories\n",
    "#Create a crosstab between the product category and the isBestSeller status\n",
    "\n",
    "crosstab_result = pd.crosstab(df['category'], df['isBestSeller'])\n",
    "crosstab_result"
   ]
  },
  {
   "cell_type": "code",
   "execution_count": null,
   "id": "40d32a73-5549-4545-8b4f-cb5730a2f7e3",
   "metadata": {},
   "outputs": [],
   "source": [
    "#Are there categories where being a best-seller is more prevalent?\n",
    "cat_proportions = df.groupby('category')['isBestSeller'].mean().reset_index()#is best seller is boolean, using mean by category\n",
    "cat_proportions_sorted = cat_proportions.sort_values(by='isBestSeller', ascending=False)\n",
    "cat_proportions_sorted"
   ]
  },
  {
   "cell_type": "code",
   "execution_count": null,
   "id": "11a25494-cd0d-436d-a87a-dfea11fcaafa",
   "metadata": {},
   "outputs": [],
   "source": [
    "#Statistical Tests:\n",
    "#Conduct a Chi-square test to determine if the best-seller distribution is independent of the product category.\n",
    "\n",
    "from scipy.stats import chi2_contingency\n",
    "chi2_statistic, chi2_p_value, _, _ = chi2_contingency(crosstab_result)\n",
    "chi2_statistic, chi2_p_value\n",
    "#chi test results 0.0 not enough evidence to conclude a significant association between the variables"
   ]
  },
  {
   "cell_type": "code",
   "execution_count": null,
   "id": "ea2670e6-03c5-4a15-af7e-b9921b5e4c63",
   "metadata": {},
   "outputs": [],
   "source": [
    "#Compute Cramér's V to understand the strength of association between best-seller status and category\n",
    "from scipy.stats.contingency import association\n",
    "association(crosstab_result, method=\"cramer\")\n",
    "#The Cramér's V value of 0.12 suggests a weak association between the two variables"
   ]
  },
  {
   "cell_type": "code",
   "execution_count": null,
   "id": "f584fba3-2632-4fb4-9655-c916614af80c",
   "metadata": {},
   "outputs": [],
   "source": [
    "#Visualize the relationship between product categories and the best-seller status using a stacked bar chart\n",
    "crosstab_result.plot(kind=\"bar\", stacked=True)"
   ]
  },
  {
   "cell_type": "code",
   "execution_count": null,
   "id": "3bd56bf0-bc63-4163-a46e-e489f61ee8e8",
   "metadata": {},
   "outputs": [],
   "source": [
    "#Part 2: Exploring Product Prices and Ratings Across Categories and Brands\n",
    "#Remove outliers in product prices\n",
    "\n",
    "#creating Tukeys test function\n",
    "\n",
    "def tukeys_test_outliers(data):\n",
    "    Q1 = data.quantile(0.25)\n",
    "    Q3 = data.quantile(0.75)\n",
    "    IQR = Q3 - Q1\n",
    "    \n",
    "    # Define bounds for the outliers\n",
    "    lower_bound = Q1 - 1.5 * IQR\n",
    "    upper_bound = Q3 + 1.5 * IQR\n",
    "    \n",
    "    # Identify the outliers\n",
    "    outliers = data[(data < lower_bound) | (data > upper_bound)]\n",
    "    \n",
    "    return outliers\n",
    "\n",
    "#applying Tukeys function to price\n",
    "outliers = tukeys_test_outliers(df['price'])\n",
    "print(outliers)\n"
   ]
  },
  {
   "cell_type": "code",
   "execution_count": null,
   "id": "f071d3c9-fed8-4ab5-b093-e0a94ead9858",
   "metadata": {},
   "outputs": [],
   "source": [
    "#dropping outliers\n",
    "index_drop=outliers.index\n",
    "df_wo_outliers=df.drop(index_drop)\n",
    "df_wo_outliers"
   ]
  },
  {
   "cell_type": "code",
   "execution_count": null,
   "id": "74a6b9b6-6861-41cf-bbc3-f48169582a35",
   "metadata": {},
   "outputs": [],
   "source": [
    "#Filter out the top 20 categories based on count for better visualization\n",
    "cat_count = df['category'].value_counts()\n",
    "top_20_cat = cat_count.nlargest(20).index\n",
    "df_top_20 = df[df['category'].isin(top_20_cat)]\n"
   ]
  },
  {
   "cell_type": "code",
   "execution_count": null,
   "id": "98b3f1c9-de69-458a-8cb1-9129872e4e56",
   "metadata": {},
   "outputs": [],
   "source": [
    "#Use a violin plot to visualize the distribution of price across different product categories on df_top_20\n",
    "sns.violinplot(data=df_top_20, x='category', y='price', hue='category', palette=\"coolwarm\",legend=False)"
   ]
  },
  {
   "cell_type": "code",
   "execution_count": null,
   "id": "3bd6c1f4-7382-4958-8eee-dae61bffc2cd",
   "metadata": {},
   "outputs": [],
   "source": [
    "#Filter out the top 5 categories based on count for better visualization\n",
    "cat_count = df['category'].value_counts()\n",
    "top_5_cat = cat_count.nlargest(5).index\n",
    "df_top_5 = df[df['category'].isin(top_5_cat)]\n",
    "sns.violinplot(data=df_top_5, x='category', y='price', hue='category', palette=\"coolwarm\",legend=False)"
   ]
  },
  {
   "cell_type": "code",
   "execution_count": null,
   "id": "c9b10216-fe31-4bda-9220-848759da007d",
   "metadata": {},
   "outputs": [],
   "source": [
    "#Create a bar chart comparing the average price of products for the top 5 product categories (based on count).\n",
    "sns.barplot(data=df_top_5, x='category', y='price', hue='category', palette=\"coolwarm\",legend=False)"
   ]
  },
  {
   "cell_type": "code",
   "execution_count": null,
   "id": "7642a4af-c942-43f3-9efb-b3dc2c1015aa",
   "metadata": {},
   "outputs": [],
   "source": [
    "#Which product category commands the highest average price? Don't filter here by top categories.\n",
    "cat_avg_price = df.groupby('category')['price'].mean()\n",
    "sort_cat = cat_avg_price.sort_values(ascending=False)\n",
    "sort_cat\n",
    "# Laptops have the highest average price\n",
    "# second ranking is 3d printers"
   ]
  },
  {
   "cell_type": "code",
   "execution_count": null,
   "id": "593bd0c7-3b31-4708-92f2-8814dc08195c",
   "metadata": {},
   "outputs": [],
   "source": [
    "#Visualize the distribution of product ratings based on their category using side-by-side box plots on top 10 categories\n",
    "sns.boxplot(data=df_top_5, x='category', y='price', hue='category', palette=\"coolwarm\",legend=False)"
   ]
  },
  {
   "cell_type": "code",
   "execution_count": null,
   "id": "576eb6c2-6998-4a2a-ac1c-739118fb4104",
   "metadata": {},
   "outputs": [],
   "source": [
    "#Which category tends to receive the highest median rating from customers?\n",
    "cat_med_price = df.groupby('category')['price'].median()\n",
    "sort_cat_2 = cat_med_price.sort_values(ascending=False)\n",
    "sort_cat_2\n",
    "# Laptops have the highest median price\n",
    "# second ranking is desktop PCs"
   ]
  },
  {
   "cell_type": "code",
   "execution_count": null,
   "id": "53f718ac-7b75-4ec7-9e99-1121f678c689",
   "metadata": {},
   "outputs": [],
   "source": [
    "#Part 3: Investigating the Interplay Between Product Prices and Ratings"
   ]
  },
  {
   "cell_type": "code",
   "execution_count": null,
   "id": "117234f5-748e-43ec-9657-9281abff2988",
   "metadata": {},
   "outputs": [],
   "source": [
    "#Calculate the correlation coefficient between price and stars\n",
    "#Pearson correlation\n",
    "correlation_p = df['price'].corr(df['stars'])\n",
    "correlation_p\n",
    "# result suggest a weak negative correlation"
   ]
  },
  {
   "cell_type": "code",
   "execution_count": null,
   "id": "5674a21f-6bbe-4260-8c5b-398e7f68869e",
   "metadata": {},
   "outputs": [],
   "source": [
    "#Sperman correlation\n",
    "correlation_s = df['price'].corr(df['stars'],method='spearman')\n",
    "correlation_s\n",
    "# Spearman result also suggests a weak negative correlation"
   ]
  },
  {
   "cell_type": "code",
   "execution_count": null,
   "id": "6fe2c618-8066-4fe0-991a-1955b672703d",
   "metadata": {},
   "outputs": [],
   "source": [
    "#Use a scatter plot to visualize the relationship between product rating and price. What patterns can you observe?\n",
    "plt.scatter(df['stars'], df['price'])\n",
    "plt.show"
   ]
  },
  {
   "cell_type": "code",
   "execution_count": null,
   "id": "94579f34-86ab-4d5f-af56-0f00c3378b02",
   "metadata": {},
   "outputs": [],
   "source": [
    "#Use a correlation heatmap to visualize correlations between all numerical variables\n",
    "#select numerical variables from df\n",
    "df_numerical = df.select_dtypes(\"number\")\n",
    "#heatmap\n",
    "correlation_matrix = df_numerical.corr()\n",
    "plt.figure(figsize=(10,10))\n",
    "# creating mask \n",
    "mask = np.triu(np.ones_like(df_numerical.corr())) \n",
    "  \n",
    "# plotting a triangle correlation heatmap \n",
    "dataplot = sns.heatmap(round(df_numerical.corr(),2), cmap=\"YlGnBu\", annot=True, mask=mask) "
   ]
  },
  {
   "cell_type": "code",
   "execution_count": null,
   "id": "00d8fe53-9d6e-4cd9-bdff-da936ceb72e4",
   "metadata": {},
   "outputs": [],
   "source": [
    "#Examine if product prices typically follow a normal distribution using a QQ plot\n",
    "import statsmodels.api as sm\n",
    "sm.qqplot(df['price'], line='s');"
   ]
  }
 ],
 "metadata": {
  "kernelspec": {
   "display_name": "Python 3 (ipykernel)",
   "language": "python",
   "name": "python3"
  },
  "language_info": {
   "codemirror_mode": {
    "name": "ipython",
    "version": 3
   },
   "file_extension": ".py",
   "mimetype": "text/x-python",
   "name": "python",
   "nbconvert_exporter": "python",
   "pygments_lexer": "ipython3",
   "version": "3.12.4"
  }
 },
 "nbformat": 4,
 "nbformat_minor": 5
}
